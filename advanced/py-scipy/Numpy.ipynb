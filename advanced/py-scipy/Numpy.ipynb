{
 "metadata": {
  "name": ""
 },
 "nbformat": 3,
 "nbformat_minor": 0,
 "worksheets": [
  {
   "cells": [
    {
     "cell_type": "markdown",
     "metadata": {},
     "source": [
      "##Numpy\n",
      "\n",
      "Additional Resources\n",
      "\n",
      " * http://wiki.scipy.org/Tentative_NumPy_Tutorial\n",
      " * http://docs.scipy.org/doc/numpy/reference/\n",
      " * http://scipy-lectures.github.io/intro/numpy/index.html\n",
      " * http://wiki.scipy.org/NumPy_for_Matlab_Users\n",
      " * http://nbviewer.ipython.org/\n",
      "\n",
      "**Numpy** provides\n",
      "\n",
      "extension package to Python for multi-dimensional arrays\n",
      "\n",
      "  * closer to hardware (efficiency)\n",
      "\n",
      "  * designed for scientific computation (convenience)\n",
      "\n",
      "  * Also known as array oriented computing\n",
      "  \n",
      "The **Numpy** Library contains functions and things\n",
      "\n",
      "```python\n",
      "    np.sqrt(64)   #this is a function\n",
      "    np.pi        #this is variable, not a function\n",
      "    np.sin( 2 * np.pi ) #a variable passed to a function\n",
      "```"
     ]
    },
    {
     "cell_type": "code",
     "collapsed": false,
     "input": [
      "# import library, standard convention\n",
      "import numpy as np\n",
      "\n",
      "# make simple array from a list\n",
      "arr = np.array([1, 2, 56])\n",
      "print arr"
     ],
     "language": "python",
     "metadata": {},
     "outputs": [
      {
       "output_type": "stream",
       "stream": "stdout",
       "text": [
        "[ 1  2 56]\n"
       ]
      }
     ],
     "prompt_number": 7
    },
    {
     "cell_type": "markdown",
     "metadata": {},
     "source": [
      "###Examples \n",
      "\n",
      "An array containing:\n",
      "\n",
      " * values of an experiment/simulation at discrete time steps\n",
      "\n",
      " * signal recorded by a measurement device, e.g. sound wave\n",
      "\n",
      " * pixels of an image, grey-level or colour\n",
      "\n",
      " * 3-D data measured at different X-Y-Z positions, e.g. MRI scan\n",
      "\n",
      " * ..."
     ]
    },
    {
     "cell_type": "markdown",
     "metadata": {},
     "source": [
      "### Getting help in IPython\n",
      "\n",
      "```python \n",
      "    np?   #info about package\n",
      "    np.<TAB>  #tab completion for available functions and variables\n",
      "    np.std?  #info about a specific function or variable\n",
      "```"
     ]
    },
    {
     "cell_type": "code",
     "collapsed": false,
     "input": [
      "# introspect numpy\n",
      "np?\n",
      "#np.<TAB>\n",
      "np.std?"
     ],
     "language": "python",
     "metadata": {},
     "outputs": [],
     "prompt_number": 8
    },
    {
     "cell_type": "markdown",
     "metadata": {},
     "source": [
      "### Efficiency (example), and Print Formatting\n",
      "\n",
      "Numpy is allows for faster computation. **%timeit** shows the difference.\n",
      "\n",
      " * **%timeit**  \n",
      "     Ipython magic used for quick and dirty profile of code\n",
      " \n",
      " * **set_printoptions**   \n",
      "     Making your output a little more human readable\n",
      " "
     ]
    },
    {
     "cell_type": "code",
     "collapsed": false,
     "input": [
      "## calculate sqaure of a list using list comprehension\n",
      "slowiter = range(1000)\n",
      "%timeit [i**2 for i in slowiter]"
     ],
     "language": "python",
     "metadata": {},
     "outputs": [
      {
       "output_type": "stream",
       "stream": "stdout",
       "text": [
        "10000 loops, best of 3: 109 \u00b5s per loop\n"
       ]
      }
     ],
     "prompt_number": 3
    },
    {
     "cell_type": "code",
     "collapsed": false,
     "input": [
      "## calculate square of an array using numpy\n",
      "fastiter = np.arange(1000)\n",
      "%timeit fastiter**2"
     ],
     "language": "python",
     "metadata": {},
     "outputs": [
      {
       "output_type": "stream",
       "stream": "stdout",
       "text": [
        "100000 loops, best of 3: 3.31 \u00b5s per loop\n"
       ]
      }
     ],
     "prompt_number": 4
    },
    {
     "cell_type": "code",
     "collapsed": false,
     "input": [
      "crazy_array = np.array([1.00000000001, 2**(-10), np.pi])\n",
      "print crazy_array"
     ],
     "language": "python",
     "metadata": {},
     "outputs": [
      {
       "output_type": "stream",
       "stream": "stdout",
       "text": [
        "[  1.00000000e+00   9.76562500e-04   3.14159265e+00]\n"
       ]
      }
     ],
     "prompt_number": 5
    },
    {
     "cell_type": "code",
     "collapsed": false,
     "input": [
      "np.set_printoptions(precision=4, suppress=True)\n",
      "print crazy_array\n"
     ],
     "language": "python",
     "metadata": {},
     "outputs": [
      {
       "output_type": "stream",
       "stream": "stdout",
       "text": [
        "[ 1.      0.001   3.1416]\n"
       ]
      }
     ],
     "prompt_number": 6
    },
    {
     "cell_type": "markdown",
     "metadata": {},
     "source": [
      "### Creating Arrays"
     ]
    },
    {
     "cell_type": "code",
     "collapsed": false,
     "input": [
      "arange\n",
      "linspace\n",
      "ones\n",
      "zeros\n",
      "eye\n",
      "diag\n",
      "random (rand, randn, seed) (Mersenne Twister PRNG)"
     ],
     "language": "python",
     "metadata": {},
     "outputs": []
    },
    {
     "cell_type": "markdown",
     "metadata": {},
     "source": [
      "### Datatypes"
     ]
    },
    {
     "cell_type": "markdown",
     "metadata": {},
     "source": [
      "### Computations"
     ]
    },
    {
     "cell_type": "markdown",
     "metadata": {},
     "source": [
      "###Slicing and Masks and assignment\n",
      "\n",
      "masked_array?"
     ]
    }
   ],
   "metadata": {}
  }
 ]
}