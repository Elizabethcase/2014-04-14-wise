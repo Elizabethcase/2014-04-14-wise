{
 "metadata": {
  "name": ""
 },
 "nbformat": 3,
 "nbformat_minor": 0,
 "worksheets": [
  {
   "cells": [
    {
     "cell_type": "markdown",
     "metadata": {},
     "source": [
      "## Python, IPython, and the basics\n",
      "\n",
      "\n",
      "* * * * *\n",
      "\n",
      "**Based on Lecture Materials By: Milad Fatenejad, Katy Huff, Joshua R. Smith, Tommy Guy, Will Trimble, and many more (edited by Molly Gibson)**"
     ]
    },
    {
     "cell_type": "markdown",
     "metadata": {},
     "source": [
      "## Introduction\n",
      "\n",
      "* Throughout today, we are going to use an environment called IPython Notebook.  \n",
      "* I expect the day to be interactive, so stop me at any point if you have questions. "
     ]
    },
    {
     "cell_type": "markdown",
     "metadata": {},
     "source": [
      "Here are some links to tutorials and reference material.\n",
      "\n",
      "* [Dive into Python](http://www.diveintopython.net/toc/index.html)\n",
      "* [Software Carpentry's Python Lectures](http://software-carpentry.org/4_0/python/)\n",
      "* [IPython: A System for Interactive Scientific Computing](http://dx.doi.org/10.1109/MCSE.2007.53)\n",
      "* [How to Think Like a Computer Scientist](http://www.greenteapress.com/thinkpython/thinkpython.html)\n",
      "* [Google's python class](https://developers.google.com/edu/python/)\n",
      "* [The python documentation](http://docs.python.org/2.7/)"
     ]
    },
    {
     "cell_type": "markdown",
     "metadata": {},
     "source": [
      "## Python Environments\n",
      "\n",
      "You can run python commands in a handful of ways: \n",
      "\n",
      "* create executable scripts\n",
      "* run the python interpreter\n",
      "* run IPython or IPython notebook\n",
      "\n",
      "IPython is an alternative to the built-in Python interpreter with some nice features.  IPython notebook gives you interactive access to the python interpreter from within a browser window, and it allows you to save your commands as a \"notebook\".\n",
      "\n",
      "Let's give the built-in interpreter a spin just this once.  Open a **Terminal** window, which starts your default shell.  Type "
     ]
    },
    {
     "cell_type": "markdown",
     "metadata": {},
     "source": [
      "    python "
     ]
    },
    {
     "cell_type": "markdown",
     "metadata": {},
     "source": [
      "And you should see python start up.  Type "
     ]
    },
    {
     "cell_type": "markdown",
     "metadata": {},
     "source": [
      "    print \"Fresh out of parrots\""
     ]
    },
    {
     "cell_type": "markdown",
     "metadata": {},
     "source": [
      "Escape from python with \n",
      "\n",
      "    quit()"
     ]
    },
    {
     "cell_type": "markdown",
     "metadata": {},
     "source": [
      "***\n",
      "\n",
      "\n",
      "\n",
      "IPython has more useful features for interactive use than the standard python interpreter, but it works in the same way--it is interactive, and you get there from the command line.  IPython Notebook uses javascript to allow you to enter python commands in your browser and show you the result in the browser.  We'll use it from here on out."
     ]
    },
    {
     "cell_type": "code",
     "collapsed": false,
     "input": [
      "print \"hello world\""
     ],
     "language": "python",
     "metadata": {},
     "outputs": []
    },
    {
     "cell_type": "markdown",
     "metadata": {},
     "source": [
      "## Navigating in IPython Notebook\n",
      "\n",
      "The box above is called the input cell; commands you put here will be fed to the python interpreter one at a time when you press **Shift-ENTER**.  \n",
      "\n",
      "The output of the command, or the error message, appears below the line you entered it on.\n"
     ]
    },
    {
     "cell_type": "code",
     "collapsed": true,
     "input": [
      "print \"Try and tell that to the young people\"\n",
      "print \"of today--they won't believe you.\""
     ],
     "language": "python",
     "metadata": {},
     "outputs": []
    },
    {
     "cell_type": "markdown",
     "metadata": {},
     "source": [
      "If you hit **ENTER** only, IPython Notebook gives you another line in the current cell.  \n",
      "\n",
      "This allows you to compose multi-line commands and submit them to python all at once.  "
     ]
    },
    {
     "cell_type": "markdown",
     "metadata": {},
     "source": [
      "Up and down arrows will allow you to move the cursor to different cells in the notebook, including these cells containing text (which you can edit in your browser).  \n",
      "\n",
      "Only the cells for which you press Shift-ENTER or Control-ENTER will be executed by the python interpreter.   "
     ]
    },
    {
     "cell_type": "markdown",
     "metadata": {},
     "source": [
      "You can enter the same line over and over again into the interpreter.  It's weird, but it's life. "
     ]
    },
    {
     "cell_type": "markdown",
     "metadata": {},
     "source": [
      "**Shift-ENTER** executes and moves to the next cell.  \n",
      "\n",
      "**Control-ENTER** (**Cmd-ENTER** on Macs) executes the cell and does *not* move to the next cell.  \n",
      " "
     ]
    },
    {
     "cell_type": "code",
     "collapsed": true,
     "input": [
      "i = 0"
     ],
     "language": "python",
     "metadata": {},
     "outputs": []
    },
    {
     "cell_type": "markdown",
     "metadata": {},
     "source": [
      "Try entering this cell a few times: "
     ]
    },
    {
     "cell_type": "code",
     "collapsed": true,
     "input": [
      "i = i + 1\n",
      "print i"
     ],
     "language": "python",
     "metadata": {},
     "outputs": []
    },
    {
     "cell_type": "markdown",
     "metadata": {},
     "source": [
      "If you want to create new empty cells, you can use Insert -> Insert Cell Below or use the Insert Cell Below button at the top of the notebook."
     ]
    },
    {
     "cell_type": "markdown",
     "metadata": {},
     "source": [
      "## Getting Help\n",
      "\n",
      "\n",
      "\n",
      "IPython has some nice help features. Let's say we want to know more about the integer data type. There are at least two ways to do this task:"
     ]
    },
    {
     "cell_type": "code",
     "collapsed": true,
     "input": [
      "help(int)"
     ],
     "language": "python",
     "metadata": {},
     "outputs": []
    },
    {
     "cell_type": "markdown",
     "metadata": {},
     "source": [
      "which displays a scrolling text help, or"
     ]
    },
    {
     "cell_type": "code",
     "collapsed": true,
     "input": [
      "int?"
     ],
     "language": "python",
     "metadata": {},
     "outputs": []
    },
    {
     "cell_type": "markdown",
     "metadata": {},
     "source": [
      "Which displays a shorter help summary in the magic pane at the bottom of the screen.  You can minimize the magic pane when it gets in your way."
     ]
    },
    {
     "cell_type": "markdown",
     "metadata": {},
     "source": [
      "If you wanted to see all the built-in commands available for something, use the `dir` command. Check out all of the methods of the object \"Hello world\", which are shared by all objects of the str type."
     ]
    },
    {
     "cell_type": "code",
     "collapsed": true,
     "input": [
      "dir(\"Hello world\")"
     ],
     "language": "python",
     "metadata": {},
     "outputs": []
    },
    {
     "cell_type": "markdown",
     "metadata": {},
     "source": [
      "There's a method that looks important -- `.swapcase()`.  Let's see what it does:  "
     ]
    },
    {
     "cell_type": "code",
     "collapsed": true,
     "input": [
      "\"Hello world\".swapcase()"
     ],
     "language": "python",
     "metadata": {},
     "outputs": []
    },
    {
     "cell_type": "markdown",
     "metadata": {},
     "source": [
      "## Executing code in files\n",
      "\n",
      "If your code is in a file, you can execute it from the IPython shell with the **%run** command. Execute `hello.py` like so"
     ]
    },
    {
     "cell_type": "code",
     "collapsed": true,
     "input": [
      "%run hellp.py"
     ],
     "language": "python",
     "metadata": {},
     "outputs": []
    },
    {
     "cell_type": "markdown",
     "metadata": {},
     "source": [
      "*Ooops.*  We misspelled **hello.py**, and python is giving us an error message.  Change the line above to hello.py, hit **Shift-ENTER**, and see what it does."
     ]
    },
    {
     "cell_type": "markdown",
     "metadata": {},
     "source": [
      "## Executing shell commands\n",
      "\n",
      "You can execute shell commands from IPython notebook using '!'"
     ]
    },
    {
     "cell_type": "code",
     "collapsed": false,
     "input": [
      "!cat hello.py"
     ],
     "language": "python",
     "metadata": {},
     "outputs": []
    },
    {
     "cell_type": "markdown",
     "metadata": {},
     "source": [
      "## Clearing IPython\n",
      "\n",
      "\n",
      "\n",
      "To clear everything from IPython, use the %reset command."
     ]
    },
    {
     "cell_type": "code",
     "collapsed": true,
     "input": [
      "mystring = \"And three shall be the count.\" \n",
      "print mystring"
     ],
     "language": "python",
     "metadata": {},
     "outputs": []
    },
    {
     "cell_type": "code",
     "collapsed": true,
     "input": [
      "%reset"
     ],
     "language": "python",
     "metadata": {},
     "outputs": []
    },
    {
     "cell_type": "code",
     "collapsed": true,
     "input": [
      "print mystring"
     ],
     "language": "python",
     "metadata": {},
     "outputs": []
    },
    {
     "cell_type": "markdown",
     "metadata": {},
     "source": [
      "Note that the error message contains a recap of the input that caused the error (with an arrow, no less!)   It is objecting that `mystring` is not defined, since we just reset it.\n"
     ]
    }
   ],
   "metadata": {}
  }
 ]
}