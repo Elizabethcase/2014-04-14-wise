{
 "metadata": {
  "name": ""
 },
 "nbformat": 3,
 "nbformat_minor": 0,
 "worksheets": [
  {
   "cells": [
    {
     "cell_type": "heading",
     "level": 2,
     "metadata": {
      "cell_tags": []
     },
     "source": [
      "Creating Functions"
     ]
    },
    {
     "cell_type": "markdown",
     "metadata": {
      "cell_tags": []
     },
     "source": [
      "If we only had one data set to analyze,\n",
      "it would probably be faster to load the file into a spreadsheet\n",
      "and use that to plot some simple statistics.\n",
      "But we actually have twelve files to check,\n",
      "and may have more in future.\n",
      "In this lesson,\n",
      "we'll learn how to write a function\n",
      "so that we can repeat several operations with a single command."
     ]
    },
    {
     "cell_type": "heading",
     "level": 3,
     "metadata": {
      "cell_tags": []
     },
     "source": [
      "Defining a Function"
     ]
    },
    {
     "cell_type": "markdown",
     "metadata": {
      "cell_tags": []
     },
     "source": [
      "Let's start by defining a function `fahr_to_kelvin` that converts temperatures from Fahrenheit to Kelvin:"
     ]
    },
    {
     "cell_type": "code",
     "collapsed": false,
     "input": [
      "def fahr_to_kelvin(temp):\n",
      "    return ((temp - 32) * (5/9)) + 273.15"
     ],
     "language": "python",
     "metadata": {
      "cell_tags": []
     },
     "outputs": []
    },
    {
     "cell_type": "markdown",
     "metadata": {
      "cell_tags": []
     },
     "source": [
      "The definition opens with the word `def`,\n",
      "which is followed by the name of the function\n",
      "and a parenthesized list of parameter names.\n",
      "The [body](http://swcarpentry.github.io/2014-04-14-wise/gloss.html#function-body) of the function&mdash;the\n",
      "statements that are executed when it runs&mdash;is indented below the definition line,\n",
      "typically by four spaces.\n",
      "\n",
      "When we call the function,\n",
      "the values we pass to it are assigned to those variables\n",
      "so that we can use them inside the function.\n",
      "Inside the function,\n",
      "we use a [return statement](http://swcarpentry.github.io/2014-04-14-wise/gloss.html#return-statement) to send a result back to whoever asked for it.\n",
      "\n",
      "Let's try running our function.\n",
      "Calling our own function is no different from calling any other function:"
     ]
    },
    {
     "cell_type": "code",
     "collapsed": false,
     "input": [
      "print 'freezing point of water:', fahr_to_kelvin(32)\n",
      "print 'boiling point of water:', fahr_to_kelvin(212)"
     ],
     "language": "python",
     "metadata": {
      "cell_tags": []
     },
     "outputs": []
    },
    {
     "cell_type": "markdown",
     "metadata": {},
     "source": [
      "We've successfully called the function that we defined,\n",
      "and we have access to the value that we returned.\n",
      "Unfortunately, the value returned doesn't look right.\n",
      "What went wrong?"
     ]
    },
    {
     "cell_type": "heading",
     "level": 3,
     "metadata": {},
     "source": [
      "Debugging a Function"
     ]
    },
    {
     "cell_type": "markdown",
     "metadata": {},
     "source": [
      "*Debugging* is when we fix a piece of code\n",
      "that we know is working incorrectly.\n",
      "In this case, we know that `fahr_to_kelvin`\n",
      "is giving us the wrong answer,\n",
      "so let's find out why.\n",
      "\n",
      "For big pieces of code,\n",
      "there are tools called *debuggers* that aid in this process.\n",
      "\n",
      "We just have a short function,\n",
      "so we'll debug by choosing some parameter value,\n",
      "breaking our function into small parts,\n",
      "and printing out the value of each part."
     ]
    },
    {
     "cell_type": "code",
     "collapsed": false,
     "input": [
      "# We'll use temp = 212, the boiling point of water, which was incorrect\n",
      "print \"212 - 32:\", 212 - 32"
     ],
     "language": "python",
     "metadata": {},
     "outputs": []
    },
    {
     "cell_type": "code",
     "collapsed": false,
     "input": [
      "print \"(212 - 32) * (5/9):\", (212 - 32) * (5/9)"
     ],
     "language": "python",
     "metadata": {},
     "outputs": []
    },
    {
     "cell_type": "markdown",
     "metadata": {},
     "source": [
      "Aha! The problem comes when we multiply by `5/9`.\n",
      "This is because `5/9` is actually 0."
     ]
    },
    {
     "cell_type": "code",
     "collapsed": false,
     "input": [
      "5/9"
     ],
     "language": "python",
     "metadata": {},
     "outputs": []
    },
    {
     "cell_type": "markdown",
     "metadata": {
      "cell_tags": []
     },
     "source": [
      "Remember, computers store numbers in one of two ways:\n",
      "as [integers](http://swcarpentry.github.io/2014-04-14-wise/gloss.html#integer)\n",
      "or as [floating-point numbers](http://swcarpentry.github.io/2014-04-14-wise/gloss.html#float) (or floats).\n",
      "The first are the numbers we usually count with;\n",
      "the second have fractional parts.\n",
      "Addition, subtraction and multiplication work on both as we'd expect,\n",
      "but division works differently.\n",
      "If we divide one integer by another,\n",
      "we get the quotient without the remainder:"
     ]
    },
    {
     "cell_type": "code",
     "collapsed": false,
     "input": [
      "print '10/3 is:', 10/3"
     ],
     "language": "python",
     "metadata": {
      "cell_tags": []
     },
     "outputs": []
    },
    {
     "cell_type": "markdown",
     "metadata": {
      "cell_tags": []
     },
     "source": [
      "If either part of the division is a float,\n",
      "on the other hand,\n",
      "the computer creates a floating-point answer:"
     ]
    },
    {
     "cell_type": "code",
     "collapsed": false,
     "input": [
      "print '10.0/3 is:', 10.0/3"
     ],
     "language": "python",
     "metadata": {
      "cell_tags": []
     },
     "outputs": []
    },
    {
     "cell_type": "markdown",
     "metadata": {
      "cell_tags": []
     },
     "source": [
      "The computer does this for historical reasons:\n",
      "integer operations were much faster on early machines,\n",
      "and this behavior is actually useful in a lot of situations.\n",
      "It's still confusing,\n",
      "though,\n",
      "so Python 3 produces a floating-point answer when dividing integers if it needs to.\n",
      "We're still using Python 2.7 in this class,\n",
      "though,\n",
      "so if we want `5/9` to give us the right answer,\n",
      "we have to write it as `5.0/9`, `5/9.0`, or some other variation."
     ]
    },
    {
     "cell_type": "markdown",
     "metadata": {},
     "source": [
      "Let's fix our `fahr_to_kelvin` function with this new knowledge."
     ]
    },
    {
     "cell_type": "code",
     "collapsed": false,
     "input": [
      "def fahr_to_kelvin(temp):\n",
      "    return ((temp - 32) * (5.0/9.0)) + 273.15\n",
      "\n",
      "print 'freezing point of water:', fahr_to_kelvin(32)\n",
      "print 'boiling point of water:', fahr_to_kelvin(212)"
     ],
     "language": "python",
     "metadata": {},
     "outputs": []
    },
    {
     "cell_type": "markdown",
     "metadata": {
      "cell_tags": []
     },
     "source": [
      "It works!"
     ]
    },
    {
     "cell_type": "heading",
     "level": 3,
     "metadata": {},
     "source": [
      "Composing Functions"
     ]
    },
    {
     "cell_type": "markdown",
     "metadata": {},
     "source": [
      "Now that we've seen how to turn Fahrenheit into Kelvin,\n",
      "it's easy to turn Kelvin into Celsius:"
     ]
    },
    {
     "cell_type": "code",
     "collapsed": false,
     "input": [
      "def kelvin_to_celsius(temp):\n",
      "    return temp - 273.15\n",
      "\n",
      "print 'absolute zero in Celsius:', kelvin_to_celsius(0.0)"
     ],
     "language": "python",
     "metadata": {
      "cell_tags": []
     },
     "outputs": []
    },
    {
     "cell_type": "markdown",
     "metadata": {
      "cell_tags": []
     },
     "source": [
      "What about converting Fahrenheit to Celsius?\n",
      "We could write out the formula,\n",
      "but we don't need to.\n",
      "Instead,\n",
      "we can [compose](http://swcarpentry.github.io/2014-04-14-wise/gloss.html#function-composition) the two functions we have already created:"
     ]
    },
    {
     "cell_type": "code",
     "collapsed": false,
     "input": [
      "def fahr_to_celsius(temp):\n",
      "    temp_k = fahr_to_kelvin(temp)\n",
      "    result = kelvin_to_celsius(temp_k)\n",
      "    return result\n",
      "\n",
      "print 'freezing point of water in Celsius:', fahr_to_celsius(32.0)"
     ],
     "language": "python",
     "metadata": {
      "cell_tags": []
     },
     "outputs": []
    },
    {
     "cell_type": "markdown",
     "metadata": {
      "cell_tags": []
     },
     "source": [
      "This is our first taste of how larger programs are built:\n",
      "we define basic operations,\n",
      "then combine them in ever-large chunks to get the effect we want.\n",
      "Real-life functions will usually be larger than the ones shown here&mdash;typically half a dozen to a few dozen lines&mdash;but\n",
      "they shouldn't ever be much longer than that,\n",
      "or the next person who reads it won't be able to understand what's going on."
     ]
    },
    {
     "cell_type": "markdown",
     "metadata": {
      "cell_tags": [
       "challenges"
      ]
     },
     "source": [
      "## Challenges\n",
      "\n",
      "1.  \"Adding\" two strings produces their concatention:\n",
      "    `'a' + 'b'` is `'ab'`.\n",
      "    Write a function called `fence` that takes two parameters called `original` and `wrapper`\n",
      "    and returns a new string that has the wrapper character at the beginning and end of the original:\n",
      "\n",
      "    ~~~python\n",
      "    print fence('name', '*')\n",
      "    *name*\n",
      "    ~~~\n",
      "\n"
     ]
    },
    {
     "cell_type": "code",
     "collapsed": false,
     "input": [],
     "language": "python",
     "metadata": {},
     "outputs": []
    },
    {
     "cell_type": "markdown",
     "metadata": {},
     "source": [
      "2.  If the variable `s` refers to a string,\n",
      "    then `s[0]` is the string's first character\n",
      "    and `s[-1]` is its last.\n",
      "    Write a function called `outer`\n",
      "    that returns a string made up of just the first and last characters of its input:\n",
      "\n",
      "    ~~~python\n",
      "    print outer('helium')\n",
      "    hm\n",
      "    ~~~"
     ]
    },
    {
     "cell_type": "code",
     "collapsed": false,
     "input": [],
     "language": "python",
     "metadata": {},
     "outputs": []
    },
    {
     "cell_type": "heading",
     "level": 3,
     "metadata": {
      "cell_tags": []
     },
     "source": [
      "Testing and Documenting"
     ]
    },
    {
     "cell_type": "markdown",
     "metadata": {
      "cell_tags": []
     },
     "source": [
      "Once we start putting things in functions so that we can re-use them,\n",
      "we need to start testing that those functions are working correctly.\n",
      "To see how to do this,\n",
      "let's write a function to center a dataset around a particular value:"
     ]
    },
    {
     "cell_type": "code",
     "collapsed": false,
     "input": [
      "def center(data, desired):\n",
      "    return (data - data.mean()) + desired"
     ],
     "language": "python",
     "metadata": {
      "cell_tags": []
     },
     "outputs": []
    },
    {
     "cell_type": "markdown",
     "metadata": {
      "cell_tags": []
     },
     "source": [
      "We could test this on our actual data,\n",
      "but since we don't know what the values ought to be,\n",
      "it will be hard to tell if the result was correct.\n",
      "Instead,\n",
      "let's use NumPy to create a matrix of 0's\n",
      "and then center that around 3:"
     ]
    },
    {
     "cell_type": "code",
     "collapsed": false,
     "input": [
      "import numpy\n",
      "\n",
      "z = numpy.zeros((2,2))\n",
      "print center(z, 3)"
     ],
     "language": "python",
     "metadata": {
      "cell_tags": []
     },
     "outputs": []
    },
    {
     "cell_type": "markdown",
     "metadata": {
      "cell_tags": []
     },
     "source": [
      "That looks right,\n",
      "so let's try `center` on our real data:"
     ]
    },
    {
     "cell_type": "code",
     "collapsed": false,
     "input": [
      "data = numpy.loadtxt(fname='inflammation-01.csv', delimiter=',')\n",
      "print center(data, 0)"
     ],
     "language": "python",
     "metadata": {
      "cell_tags": []
     },
     "outputs": []
    },
    {
     "cell_type": "markdown",
     "metadata": {
      "cell_tags": []
     },
     "source": [
      "It's hard to tell from the default output whether the result is correct,\n",
      "but there are a few simple tests that will reassure us:"
     ]
    },
    {
     "cell_type": "code",
     "collapsed": false,
     "input": [
      "print 'original min, mean, and max are:', data.min(), data.mean(), data.max()\n",
      "centered = center(data, 0)\n",
      "print 'min, mean, and and max of centered data are:', centered.min(), centered.mean(), centered.max()"
     ],
     "language": "python",
     "metadata": {
      "cell_tags": []
     },
     "outputs": []
    },
    {
     "cell_type": "markdown",
     "metadata": {
      "cell_tags": []
     },
     "source": [
      "That seems almost right:\n",
      "the original mean was about 6.1,\n",
      "so the lower bound from zero is how about -6.1.\n",
      "The mean of the centered data isn't quite zero&mdash;we'll explore why not in the challenges&mdash;but it's pretty close.\n",
      "We can even go further and check that the standard deviation hasn't changed:"
     ]
    },
    {
     "cell_type": "code",
     "collapsed": false,
     "input": [
      "print 'std dev before and after:', data.std(), centered.std()"
     ],
     "language": "python",
     "metadata": {
      "cell_tags": []
     },
     "outputs": []
    },
    {
     "cell_type": "markdown",
     "metadata": {
      "cell_tags": []
     },
     "source": [
      "Those values look the same,\n",
      "but we probably wouldn't notice if they were different in the sixth decimal place.\n",
      "Let's do this instead:"
     ]
    },
    {
     "cell_type": "code",
     "collapsed": false,
     "input": [
      "print 'difference in standard deviations before and after:', data.std() - centered.std()"
     ],
     "language": "python",
     "metadata": {
      "cell_tags": []
     },
     "outputs": []
    },
    {
     "cell_type": "markdown",
     "metadata": {
      "cell_tags": []
     },
     "source": [
      "Again,\n",
      "the difference is very small.\n",
      "It's still possible that our function is wrong,\n",
      "but it seems unlikely enough that we should probably get back to doing our analysis.\n",
      "We have one more task first, though:\n",
      "we should write some [documentation](http://swcarpentry.github.io/2014-04-14-wise/gloss.html#documentation) for our function\n",
      "to remind ourselves later what it's for and how to use it.\n",
      "\n",
      "The usual way to put documentation in software is to add [comments](http://swcarpentry.github.io/2014-04-14-wise/gloss.html#comment) like this:"
     ]
    },
    {
     "cell_type": "code",
     "collapsed": false,
     "input": [
      "# center(data, desired): return a new array containing the original data centered around the desired value.\n",
      "def center(data, desired):\n",
      "    return (data - data.mean()) + desired"
     ],
     "language": "python",
     "metadata": {
      "cell_tags": []
     },
     "outputs": []
    },
    {
     "cell_type": "markdown",
     "metadata": {
      "cell_tags": []
     },
     "source": [
      "There's a better way, though.\n",
      "If the first thing in a function is a string that isn't assigned to a variable,\n",
      "that string is attached to the function as its documentation:"
     ]
    },
    {
     "cell_type": "code",
     "collapsed": false,
     "input": [
      "def center(data, desired):\n",
      "    '''Return a new array containing the original data centered around the desired value.'''\n",
      "    return (data - data.mean()) + desired"
     ],
     "language": "python",
     "metadata": {
      "cell_tags": []
     },
     "outputs": []
    },
    {
     "cell_type": "markdown",
     "metadata": {
      "cell_tags": []
     },
     "source": [
      "This is better because we can now ask Python's built-in help system to show us the documentation for the function:"
     ]
    },
    {
     "cell_type": "code",
     "collapsed": false,
     "input": [
      "help(center)"
     ],
     "language": "python",
     "metadata": {
      "cell_tags": []
     },
     "outputs": []
    },
    {
     "cell_type": "markdown",
     "metadata": {
      "cell_tags": []
     },
     "source": [
      "A string like this is called a [docstring](http://swcarpentry.github.io/2014-04-14-wise/gloss.html#docstring).\n",
      "We don't need to use triple quotes when we write one,\n",
      "but if we do,\n",
      "we can break the string across multiple lines:"
     ]
    },
    {
     "cell_type": "code",
     "collapsed": false,
     "input": [
      "def center(data, desired):\n",
      "    '''Return a new array containing the original data centered around the desired value.\n",
      "    Example: center([1, 2, 3], 0) => [-1, 0, 1]'''\n",
      "    return (data - data.mean()) + desired\n",
      "\n",
      "help(center)"
     ],
     "language": "python",
     "metadata": {
      "cell_tags": []
     },
     "outputs": []
    },
    {
     "cell_type": "markdown",
     "metadata": {
      "cell_tags": [
       "challenges"
      ]
     },
     "source": [
      "## Challenge\n",
      "\n",
      "1.  Write a function called `analyze` that takes a filename as a parameter\n",
      "    and displays the three graphs produced in the previous lesson,\n",
      "    i.e.,\n",
      "    `analyze('inflammation-01.csv')` should produce the graphs already shown,\n",
      "    while `analyze('inflammation-02.csv')` should produce corresponding graphs for the second data set.\n",
      "    Be sure to give your function a docstring.\n",
      "\n"
     ]
    },
    {
     "cell_type": "code",
     "collapsed": false,
     "input": [],
     "language": "python",
     "metadata": {},
     "outputs": []
    },
    {
     "cell_type": "markdown",
     "metadata": {
      "cell_tags": [
       "keypoints"
      ]
     },
     "source": [
      "#### Key Points\n",
      "\n",
      "*   Define a function using `def name(...params...)`.\n",
      "*   The body of a function must be indented.\n",
      "*   Call a function using `name(...values...)`.\n",
      "*   Numbers are stored as integers or floating-point numbers.\n",
      "*   Integer division produces the whole part of the answer (not the fractional part).\n",
      "*   Use `help(thing)` to view help for something.\n",
      "*   Put docstrings in functions to provide help for that function.\n",
      "*   Specify default values for parameters when defining a function using `name=value` in the parameter list.\n",
      "*   Parameters can be passed by matching based on name, by position, or by omitting them (in which case the default value is used)."
     ]
    },
    {
     "cell_type": "markdown",
     "metadata": {
      "cell_tags": []
     },
     "source": [
      "#### Next Steps\n",
      "\n",
      "We now have a function called `analyze` to visualize a single data set.\n",
      "We could use it to explore all 12 of our current data sets like this:\n",
      "\n",
      "~~~python\n",
      "analyze('inflammation-01.csv')\n",
      "analyze('inflammation-02.csv')\n",
      "...\n",
      "analyze('inflammation-12.csv')\n",
      "~~~\n",
      "\n",
      "but the chances of us typing all 12 filenames correctly aren't great,\n",
      "and we'll be even worse off if we get another hundred files.\n",
      "What we need is a way to tell Python to do something once for each file,\n",
      "and that will be the subject of the next lesson."
     ]
    }
   ],
   "metadata": {}
  }
 ]
}